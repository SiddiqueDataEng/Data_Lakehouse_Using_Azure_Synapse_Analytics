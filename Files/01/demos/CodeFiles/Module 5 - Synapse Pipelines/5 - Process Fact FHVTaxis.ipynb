{
  "nbformat": 4,
  "nbformat_minor": 2,
  "metadata": {
    "kernelspec": {
      "name": "synapse_pyspark",
      "display_name": "python"
    },
    "language_info": {
      "name": "python"
    },
    "save_output": true,
    "synapse_widget": {
      "version": "0.1",
      "state": {}
    }
  },
  "cells": [
    {
      "cell_type": "code",
      "execution_count": 4,
      "outputs": [
        {
          "output_type": "display_data",
          "data": {
            "application/vnd.livy.statement-meta+json": {
              "spark_pool": null,
              "session_id": null,
              "statement_id": null,
              "state": "waiting",
              "livy_statement_state": null,
              "queued_time": "2021-04-30T20:41:32.3109136Z",
              "execution_start_time": null,
              "execution_finish_time": null
            },
            "text/plain": "StatementMeta(, , , Waiting, )"
          },
          "metadata": {}
        },
        {
          "output_type": "stream",
          "name": "stdout",
          "text": ""
        }
      ],
      "metadata": {
        "tags": [
          "parameters"
        ]
      },
      "source": [
        "date = \"201911\""
      ]
    },
    {
      "cell_type": "code",
      "execution_count": 5,
      "outputs": [
        {
          "output_type": "display_data",
          "data": {
            "application/vnd.livy.statement-meta+json": {
              "spark_pool": "PSSparkPool",
              "session_id": 5,
              "statement_id": 5,
              "state": "finished",
              "livy_statement_state": "available",
              "queued_time": "2021-04-30T20:41:32.3761584Z",
              "execution_start_time": "2021-04-30T20:41:32.5872282Z",
              "execution_finish_time": "2021-04-30T20:41:34.6470855Z"
            },
            "text/plain": "StatementMeta(PSSparkPool, 5, 5, Finished, Available)"
          },
          "metadata": {}
        },
        {
          "output_type": "stream",
          "name": "stdout",
          "text": ""
        }
      ],
      "metadata": {
        "jupyter": {
          "source_hidden": false,
          "outputs_hidden": false
        },
        "nteract": {
          "transient": {
            "deleting": false
          }
        },
        "collapsed": true
      },
      "source": [
        "fhvTaxisFilePath = \"abfss://taxidata@pstaxisdatalake.dfs.core.windows.net/FhvTaxis_\" + date + \".csv\""
      ]
    },
    {
      "cell_type": "code",
      "execution_count": 6,
      "outputs": [
        {
          "output_type": "display_data",
          "data": {
            "application/vnd.livy.statement-meta+json": {
              "spark_pool": "PSSparkPool",
              "session_id": 5,
              "statement_id": 6,
              "state": "finished",
              "livy_statement_state": "available",
              "queued_time": "2021-04-30T20:41:32.4536583Z",
              "execution_start_time": "2021-04-30T20:41:34.7638845Z",
              "execution_finish_time": "2021-04-30T20:42:57.4164224Z"
            },
            "text/plain": "StatementMeta(PSSparkPool, 5, 6, Finished, Available)"
          },
          "metadata": {}
        },
        {
          "output_type": "stream",
          "name": "stdout",
          "text": ""
        }
      ],
      "metadata": {
        "jupyter": {
          "source_hidden": false,
          "outputs_hidden": false
        },
        "nteract": {
          "transient": {
            "deleting": false
          }
        },
        "collapsed": true
      },
      "source": [
        "fhvTaxiTripDataDF = (\r\n",
        "                        spark\r\n",
        "                            .read\r\n",
        "                            .option(\"header\", \"true\")\r\n",
        "                            .option(\"inferSchema\", \"true\")\r\n",
        "                            .csv(fhvTaxisFilePath)\r\n",
        "                    )"
      ]
    },
    {
      "cell_type": "code",
      "execution_count": 7,
      "outputs": [
        {
          "output_type": "display_data",
          "data": {
            "application/vnd.livy.statement-meta+json": {
              "spark_pool": "PSSparkPool",
              "session_id": 5,
              "statement_id": 7,
              "state": "finished",
              "livy_statement_state": "available",
              "queued_time": "2021-04-30T20:41:32.4901004Z",
              "execution_start_time": "2021-04-30T20:42:57.5221281Z",
              "execution_finish_time": "2021-04-30T20:42:59.5929719Z"
            },
            "text/plain": "StatementMeta(PSSparkPool, 5, 7, Finished, Available)"
          },
          "metadata": {}
        },
        {
          "output_type": "stream",
          "name": "stdout",
          "text": ""
        }
      ],
      "metadata": {
        "jupyter": {
          "source_hidden": false,
          "outputs_hidden": false
        },
        "nteract": {
          "transient": {
            "deleting": false
          }
        },
        "collapsed": true
      },
      "source": [
        "from pyspark.sql.functions import *\r\n",
        "\r\n",
        "fhvTaxiTripDataDF = (\r\n",
        "                        fhvTaxiTripDataDF\r\n",
        "\r\n",
        "                            # Select limited columns\r\n",
        "                            .select(\r\n",
        "                                    \"hvfhs_license_num\",\r\n",
        "                                    \"dispatching_base_num\",\r\n",
        "                                    \"Pickup_DateTime\", \r\n",
        "                                    \"DropOff_DateTime\", \r\n",
        "                                    \"PUlocationID\", \r\n",
        "                                    \"DOlocationID\"                                    \r\n",
        "                                )\r\n",
        "\r\n",
        "                            #Rename the columns\r\n",
        "                            .withColumnRenamed(\"hvfhs_license_num\", \"CompanyLicenseId\")\r\n",
        "                            .withColumnRenamed(\"dispatching_base_num\", \"BaseLicenseId\")\r\n",
        "                            .withColumnRenamed(\"Pickup_DateTime\", \"PickupTime\")\r\n",
        "                            .withColumnRenamed(\"DropOff_DateTime\", \"DropTime\")\r\n",
        "                            .withColumnRenamed(\"PUlocationID\", \"PickupLocationId\")\r\n",
        "                            .withColumnRenamed(\"DOlocationID\", \"DropLocationId\")\r\n",
        "\r\n",
        "                            # Create derived columns for year, month and day\r\n",
        "                            .withColumn(\"TripYear\", year(col(\"PickupTime\")))\r\n",
        "                            .withColumn(\"TripMonth\", month(col(\"PickupTime\")))\r\n",
        "                            .withColumn(\"TripDay\", dayofmonth(col(\"PickupTime\")))\r\n",
        "\r\n",
        "                            # Filter records based on PickupTime\r\n",
        "                            .where(\"PickupTime >= '2019-11-01' AND PickupTime < '2019-12-01'\")\r\n",
        "                    )"
      ]
    },
    {
      "cell_type": "code",
      "execution_count": 8,
      "outputs": [
        {
          "output_type": "display_data",
          "data": {
            "application/vnd.livy.statement-meta+json": {
              "spark_pool": "PSSparkPool",
              "session_id": 5,
              "statement_id": 8,
              "state": "finished",
              "livy_statement_state": "available",
              "queued_time": "2021-04-30T20:41:32.5345191Z",
              "execution_start_time": "2021-04-30T20:42:59.6968484Z",
              "execution_finish_time": "2021-04-30T20:44:43.003856Z"
            },
            "text/plain": "StatementMeta(PSSparkPool, 5, 8, Finished, Available)"
          },
          "metadata": {}
        },
        {
          "output_type": "stream",
          "name": "stdout",
          "text": ""
        }
      ],
      "metadata": {
        "jupyter": {
          "source_hidden": false,
          "outputs_hidden": false
        },
        "nteract": {
          "transient": {
            "deleting": false
          }
        },
        "collapsed": true
      },
      "source": [
        "(\r\n",
        "    fhvTaxiTripDataDF\r\n",
        "        .write\r\n",
        "        .partitionBy(\"TripYear\", \"TripMonth\", \"TripDay\")\r\n",
        "        .mode(\"overwrite\")\r\n",
        "        .option(\"path\", \"abfss://taxioutput@pstaxisdatalake.dfs.core.windows.net/Facts/FhvTaxis.parquet\")\r\n",
        "        .saveAsTable(\"FhvWarehouse.FHVTrips\")\r\n",
        ")"
      ]
    }
  ]
}