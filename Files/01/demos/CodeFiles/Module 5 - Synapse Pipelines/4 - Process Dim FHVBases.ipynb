{
  "nbformat": 4,
  "nbformat_minor": 2,
  "metadata": {
    "kernelspec": {
      "name": "synapse_pyspark",
      "display_name": "python"
    },
    "language_info": {
      "name": "python"
    },
    "save_output": true,
    "synapse_widget": {
      "version": "0.1",
      "state": {}
    }
  },
  "cells": [
    {
      "cell_type": "code",
      "execution_count": null,
      "outputs": [],
      "metadata": {},
      "source": [
        "# Create file path variable\r\n",
        "\r\n",
        "fhvBasesFilePath = 'abfss://taxidata@pstaxisdatalake.dfs.core.windows.net/FhvBases.json'"
      ]
    },
    {
      "cell_type": "code",
      "execution_count": null,
      "outputs": [],
      "metadata": {
        "jupyter": {
          "source_hidden": false,
          "outputs_hidden": false
        },
        "nteract": {
          "transient": {
            "deleting": false
          }
        },
        "collapsed": true
      },
      "source": [
        "# Read FHV Bases json file\r\n",
        "\r\n",
        "fhvBasesDF = (\r\n",
        "                spark\r\n",
        "                  .read\r\n",
        "                  .option(\"multiline\", \"true\")\r\n",
        "                  .json(fhvBasesFilePath)\r\n",
        "             )\r\n",
        "\r\n",
        "display(fhvBasesDF)"
      ]
    },
    {
      "cell_type": "code",
      "execution_count": null,
      "outputs": [],
      "metadata": {
        "jupyter": {
          "source_hidden": false,
          "outputs_hidden": false
        },
        "nteract": {
          "transient": {
            "deleting": false
          }
        },
        "collapsed": true
      },
      "source": [
        "from pyspark.sql.functions import *\r\n",
        "\r\n",
        "# Flatten FHV Bases data\r\n",
        "\r\n",
        "fhvBasesFlatDF = (\r\n",
        "                    fhvBasesDF\r\n",
        "                        .select(\r\n",
        "                                    col(\"License Number\").alias(\"BaseLicenseId\"),\r\n",
        "                                    col(\"Type of Base\").alias(\"BaseType\"),\r\n",
        "\r\n",
        "                                    col(\"Address.Building\").alias(\"AddressBuilding\"),\r\n",
        "                                    col(\"Address.Street\").alias(\"AddressStreet\"),\r\n",
        "                                    col(\"Address.City\").alias(\"AddressCity\"),\r\n",
        "                                    col(\"Address.State\").alias(\"AddressState\"),\r\n",
        "                                    col(\"Address.PostCode\").alias(\"AddressPostalCode\")\r\n",
        "                               )\r\n",
        "                )\r\n",
        "\r\n",
        "display(fhvBasesFlatDF)"
      ]
    },
    {
      "cell_type": "code",
      "execution_count": null,
      "outputs": [],
      "metadata": {
        "jupyter": {
          "source_hidden": false,
          "outputs_hidden": false
        },
        "nteract": {
          "transient": {
            "deleting": false
          }
        },
        "collapsed": true
      },
      "source": [
        "(\r\n",
        "    fhvBasesFlatDF\r\n",
        "        .write        \r\n",
        "        .mode(\"overwrite\")\r\n",
        "        .option(\"path\", \"abfss://taxioutput@pstaxisdatalake.dfs.core.windows.net/Dimensions/FhvBases.parquet\")\r\n",
        "        .saveAsTable(\"FhvWarehouse.FHVBases\")\r\n",
        ")"
      ]
    }
  ]
}