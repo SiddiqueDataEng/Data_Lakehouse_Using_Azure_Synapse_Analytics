{
  "nbformat": 4,
  "nbformat_minor": 2,
  "metadata": {
    "kernelspec": {
      "name": "synapse_pyspark",
      "display_name": "python"
    },
    "language_info": {
      "name": "python"
    },
    "save_output": true,
    "synapse_widget": {
      "version": "0.1",
      "state": {
        "97dd9bd3-1e95-4ffa-b18e-26e8c739c485": {
          "type": "Synapse.DataFrame",
          "sync_state": {
            "table": {
              "rows": [
                {
                  "Rating": 5,
                  "Feedback": "I have been using Yellow Taxi Transfers for years. They are reliable, helpful and convivial. They go out of their way to help with organizing travel to and from the airport.I  strongly recommend them.",
                  "PickupLocationId": 234,
                  "id": "ca13af5b-aa20-4198-8cda-cc11c6a0b4dc",
                  "_etag": "\"53011b79-0000-0200-0000-608d68b20000\"",
                  "_rid": "aBNFAILNCYEBAAAAAAAAAA==",
                  "RideId": 1,
                  "_ts": 1619880114
                },
                {
                  "Rating": 3.5,
                  "Feedback": "Needs improvement. Cab was not in good shape. Seats were messy.",
                  "PickupLocationId": 148,
                  "id": "1d24ca7b-25d9-4380-ac80-d4ace58ade3b",
                  "_etag": "\"53011c79-0000-0200-0000-608d68b20000\"",
                  "_rid": "aBNFAILNCYECAAAAAAAAAA==",
                  "RideId": 2,
                  "_ts": 1619880114
                },
                {
                  "Rating": 4,
                  "Feedback": "It was good",
                  "PickupLocationId": 79,
                  "id": "cd080120-18d8-458b-9c7a-f90f9153e264",
                  "_etag": "\"53011d79-0000-0200-0000-608d68b20000\"",
                  "_rid": "aBNFAILNCYEDAAAAAAAAAA==",
                  "RideId": 3,
                  "_ts": 1619880114
                },
                {
                  "Rating": 1,
                  "Feedback": "Horrible to say the least. Poor attitude. Didn't complete the ride. Asked me to get down, and take another one.",
                  "PickupLocationId": 138,
                  "id": "6c8417bb-eff2-468e-8c31-57339475fcbc",
                  "_etag": "\"53011e79-0000-0200-0000-608d68b20000\"",
                  "_rid": "aBNFAILNCYEEAAAAAAAAAA==",
                  "RideId": 4,
                  "_ts": 1619880114
                },
                {
                  "Rating": 5,
                  "Feedback": "Great Service! On time, and very reliable even at odd hours",
                  "PickupLocationId": 233,
                  "id": "c3b6375f-9d57-47be-bad6-4a1d1df1c3b9",
                  "_etag": "\"53011f79-0000-0200-0000-608d68b20000\"",
                  "_rid": "aBNFAILNCYEFAAAAAAAAAA==",
                  "RideId": 5,
                  "_ts": 1619880114
                },
                {
                  "Rating": 4.5,
                  "Feedback": "Cab reached very late. But driver was courteous, and still helped me reach on time to destination",
                  "PickupLocationId": 100,
                  "id": "d5a6822b-4188-4f00-a4a6-125c1fc32a00",
                  "_etag": "\"53012079-0000-0200-0000-608d68b20000\"",
                  "_rid": "aBNFAILNCYEGAAAAAAAAAA==",
                  "RideId": 6,
                  "_ts": 1619880114
                }
              ],
              "schema": {
                "_rid": "string",
                "_ts": "bigint",
                "RideId": "bigint",
                "PickupLocationId": "bigint",
                "Rating": "double",
                "Feedback": "string",
                "id": "string",
                "_etag": "string"
              }
            },
            "isSummary": false,
            "language": "scala"
          },
          "persist_state": {
            "view": {
              "type": "details",
              "tableOptions": {},
              "chartOptions": {
                "chartType": "bar",
                "aggregationType": "sum",
                "categoryFieldKeys": [
                  "_rid"
                ],
                "seriesFieldKeys": [
                  "_ts"
                ],
                "isStacked": false
              }
            }
          }
        }
      }
    }
  },
  "cells": [
    {
      "cell_type": "code",
      "execution_count": 1,
      "outputs": [
        {
          "output_type": "display_data",
          "data": {
            "application/vnd.livy.statement-meta+json": {
              "spark_pool": "PSSparkPool",
              "session_id": 6,
              "statement_id": 1,
              "state": "finished",
              "livy_statement_state": "available",
              "queued_time": "2021-05-01T14:49:33.2740673Z",
              "execution_start_time": "2021-05-01T14:52:27.1702463Z",
              "execution_finish_time": "2021-05-01T14:52:49.9552692Z"
            },
            "text/plain": "StatementMeta(PSSparkPool, 6, 1, Finished, Available)"
          },
          "metadata": {}
        },
        {
          "output_type": "display_data",
          "data": {
            "application/vnd.synapse.widget-view+json": {
              "widget_id": "97dd9bd3-1e95-4ffa-b18e-26e8c739c485",
              "widget_type": "Synapse.DataFrame"
            },
            "text/plain": "SynapseWidget(Synapse.DataFrame, 97dd9bd3-1e95-4ffa-b18e-26e8c739c485)"
          },
          "metadata": {}
        },
        {
          "output_type": "execute_result",
          "data": {},
          "execution_count": 1,
          "metadata": {}
        }
      ],
      "metadata": {
        "collapsed": false
      },
      "source": [
        "# Read from Cosmos DB analytical store into a Spark DataFrame and display 10 rows from the DataFrame\n",
        "# To select a preferred list of regions in a multi-region Cosmos DB account, add .option(\"spark.cosmos.preferredRegions\", \"<Region1>,<Region2>\")\n",
        "\n",
        "df = spark.read\\\n",
        "    .format(\"cosmos.olap\")\\\n",
        "    .option(\"spark.synapse.linkedService\", \"PLTaxisCosmosDB\")\\\n",
        "    .option(\"spark.cosmos.container\", \"RidesFeedback\")\\\n",
        "    .load()\n",
        "\n",
        "display(df.limit(10))"
      ]
    }
  ]
}