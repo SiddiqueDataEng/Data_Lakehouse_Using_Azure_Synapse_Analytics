{
  "nbformat": 4,
  "nbformat_minor": 2,
  "metadata": {
    "kernelspec": {
      "name": "synapse_pyspark",
      "display_name": "python"
    },
    "language_info": {
      "name": "python"
    },
    "save_output": true,
    "synapse_widget": {
      "version": "0.1",
      "state": {}
    }
  },
  "cells": [
    {
      "cell_type": "code",
      "execution_count": null,
      "outputs": [],
      "metadata": {},
      "source": [
        "# Write a Spark DataFrame into a Cosmos DB container\n",
        "# To select a preferred list of regions in a multi-region Cosmos DB account, add .option(\"spark.cosmos.preferredRegions\", \"<Region1>,<Region2>\")\n",
        "\n",
        "YOURDATAFRAME.write\\\n",
        "    .format(\"cosmos.oltp\")\\\n",
        "    .option(\"spark.synapse.linkedService\", \"PLTaxisCosmosDB\")\\\n",
        "    .option(\"spark.cosmos.container\", \"RidesFeedback\")\\\n",
        "    .option(\"spark.cosmos.write.upsertEnabled\", \"true\")\\\n",
        "    .mode('append')\\\n",
        "    .save()"
      ]
    }
  ]
}