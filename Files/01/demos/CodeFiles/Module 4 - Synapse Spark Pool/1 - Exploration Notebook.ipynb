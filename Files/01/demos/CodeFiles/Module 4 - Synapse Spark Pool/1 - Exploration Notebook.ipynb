{
  "nbformat": 4,
  "nbformat_minor": 2,
  "metadata": {
    "kernelspec": {
      "name": "synapse_pyspark",
      "display_name": "python"
    },
    "language_info": {
      "name": "python"
    },
    "save_output": true,
    "synapse_widget": {
      "version": "0.1",
      "state": {}
    }
  },
  "cells": [
    {
      "cell_type": "markdown",
      "metadata": {
        "nteract": {
          "transient": {
            "deleting": false
          }
        }
      },
      "source": [
        "## This is an Exploration Notebook"
      ]
    },
    {
      "cell_type": "code",
      "execution_count": 1,
      "outputs": [
        {
          "output_type": "display_data",
          "data": {
            "application/vnd.livy.statement-meta+json": {
              "spark_pool": "PSSparkPool",
              "session_id": 0,
              "statement_id": 1,
              "state": "finished",
              "livy_statement_state": "available",
              "queued_time": "2021-04-30T15:09:12.6118087Z",
              "execution_start_time": "2021-04-30T15:12:06.4536674Z",
              "execution_finish_time": "2021-04-30T15:12:08.5289558Z"
            },
            "text/plain": "StatementMeta(PSSparkPool, 0, 1, Finished, Available)"
          },
          "metadata": {}
        },
        {
          "output_type": "stream",
          "name": "stdout",
          "text": "'Hello World'"
        }
      ],
      "metadata": {},
      "source": [
        "\"Hello World\""
      ]
    },
    {
      "cell_type": "code",
      "execution_count": 2,
      "outputs": [
        {
          "output_type": "display_data",
          "data": {
            "application/vnd.livy.statement-meta+json": {
              "spark_pool": "PSSparkPool",
              "session_id": 0,
              "statement_id": 2,
              "state": "submitted",
              "livy_statement_state": "available",
              "queued_time": "2021-04-30T15:12:40.4804737Z",
              "execution_start_time": "2021-04-30T15:12:40.6622903Z",
              "execution_finish_time": null
            },
            "text/plain": "StatementMeta(PSSparkPool, 0, 2, Submitted, Available)"
          },
          "metadata": {}
        },
        {
          "output_type": "stream",
          "name": "stdout",
          "text": "2"
        }
      ],
      "metadata": {
        "jupyter": {
          "source_hidden": false,
          "outputs_hidden": false
        },
        "nteract": {
          "transient": {
            "deleting": false
          }
        },
        "collapsed": true
      },
      "source": [
        "sum = 1 + 1\r\n",
        "\r\n",
        "print(sum)"
      ]
    },
    {
      "cell_type": "code",
      "execution_count": 3,
      "outputs": [
        {
          "output_type": "display_data",
          "data": {
            "application/vnd.livy.statement-meta+json": {
              "spark_pool": "PSSparkPool",
              "session_id": 0,
              "statement_id": 3,
              "state": "submitted",
              "livy_statement_state": "available",
              "queued_time": "2021-04-30T15:13:09.9283278Z",
              "execution_start_time": "2021-04-30T15:13:10.0707047Z",
              "execution_finish_time": null
            },
            "text/plain": "StatementMeta(PSSparkPool, 0, 3, Submitted, Available)"
          },
          "metadata": {}
        },
        {
          "output_type": "stream",
          "name": "stdout",
          "text": "3"
        }
      ],
      "metadata": {
        "jupyter": {
          "source_hidden": false,
          "outputs_hidden": false
        },
        "nteract": {
          "transient": {
            "deleting": false
          }
        },
        "collapsed": true
      },
      "source": [
        "sum = sum + 1\r\n",
        "\r\n",
        "print(sum)"
      ]
    },
    {
      "cell_type": "code",
      "execution_count": null,
      "outputs": [],
      "metadata": {
        "jupyter": {
          "source_hidden": false,
          "outputs_hidden": false
        },
        "nteract": {
          "transient": {
            "deleting": false
          }
        },
        "collapsed": true
      },
      "source": [
        ""
      ]
    }
  ]
}